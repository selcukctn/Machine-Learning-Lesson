{
  "cells": [
    {
      "cell_type": "code",
      "execution_count": null,
      "metadata": {
        "colab": {
          "base_uri": "https://localhost:8080/",
          "height": 295
        },
        "id": "q2WvRdwn31N6",
        "outputId": "4f77dcf8-4af1-4cb8-e695-d8700e8cf364"
      },
      "outputs": [],
      "source": [
        "import matplotlib.pyplot as plt \n",
        "import numpy as np\n",
        "\n",
        "x = np.arange(0, 30, 0.3)\n",
        "\n",
        "y = np.sin(x)\n",
        "\n",
        "plt.plot(x, y)\n",
        "\n",
        "plt.title(\"Sinüs Grafiği\")\n",
        "plt.xlabel(\"X Ekseni\")\n",
        "plt.ylabel(\"Y Ekseni\")\n",
        "\n",
        "plt.show()\n"
      ]
    },
    {
      "cell_type": "code",
      "execution_count": null,
      "metadata": {
        "colab": {
          "base_uri": "https://localhost:8080/",
          "height": 295
        },
        "id": "aWZ8z3qS38WW",
        "outputId": "3ab1fc4c-7fbb-4422-8ff0-3714b2569116"
      },
      "outputs": [],
      "source": [
        "import matplotlib.pyplot as plt\n",
        "import numpy as np\n",
        "\n",
        "\n",
        "x = np.random.rand(75)\n",
        "y = np.random.rand(50)\n",
        "colors = np.random.rand(80)\n",
        "sizes = np.random.randint(50, 60, 70)\n",
        "\n",
        "plt.scatter(x, y, c=colors, s=sizes)\n",
        "\n",
        "\n",
        "plt.title(\"Point Chart\")\n",
        "plt.xlabel(\"X-axis\")\n",
        "plt.ylabel(\"Y-axis\")\n",
        "\n",
        "\n",
        "plt.show()\n"
      ]
    },
    {
      "cell_type": "code",
      "execution_count": null,
      "metadata": {
        "colab": {
          "base_uri": "https://localhost:8080/",
          "height": 295
        },
        "id": "KQlg5cBr3-12",
        "outputId": "3a12f462-3d71-48b8-e0e2-08481fcbc55f"
      },
      "outputs": [],
      "source": [
        "import matplotlib.pyplot as plt\n",
        "import numpy as np\n",
        "\n",
        "\n",
        "data = np.random.randn(9999)\n",
        "\n",
        "\n",
        "plt.hist(data, bins=90)\n",
        "\n",
        "plt.title(\"Histogram\")\n",
        "plt.xlabel(\"Values\")\n",
        "plt.ylabel(\"Frequency\")\n",
        "\n",
        "\n",
        "plt.show()\n"
      ]
    },
    {
      "cell_type": "code",
      "execution_count": null,
      "metadata": {
        "colab": {
          "base_uri": "https://localhost:8080/",
          "height": 295
        },
        "id": "IMBWZWBw4CvN",
        "outputId": "67ace7a0-3d43-4fdb-daef-302d04797fc8"
      },
      "outputs": [],
      "source": [
        "import matplotlib.pyplot as plt\n",
        "import numpy as np\n",
        "\n",
        "\n",
        "x = ['H','A','R','U','N']\n",
        "y = np.random.randint(1, 10, 5)\n",
        "\n",
        "plt.bar(x, y)\n",
        "\n",
        "\n",
        "plt.title(\"Column Chart\")\n",
        "plt.xlabel(\"Categories\")\n",
        "plt.ylabel(\"Values\")\n",
        "\n",
        "plt.show()\n"
      ]
    },
    {
      "cell_type": "code",
      "execution_count": null,
      "metadata": {
        "colab": {
          "base_uri": "https://localhost:8080/",
          "height": 264
        },
        "id": "2mJmcv224EOG",
        "outputId": "ec30c6b4-93b0-4e54-ec81-e4ede878c52f"
      },
      "outputs": [],
      "source": [
        "import matplotlib.pyplot as plt\n",
        "\n",
        "sizes = [380, 525, 135, 210, 150, 300]\n",
        "\n",
        "plt.pie(sizes)\n",
        "\n",
        "plt.title(\"Pie Chart\")\n",
        "\n",
        "plt.show()\n"
      ]
    },
    {
      "cell_type": "code",
      "execution_count": null,
      "metadata": {
        "colab": {
          "base_uri": "https://localhost:8080/",
          "height": 275
        },
        "id": "MEvRSw534oTz",
        "outputId": "1998b9be-9988-429e-d656-e85169a6179e"
      },
      "outputs": [],
      "source": [
        "import matplotlib.pyplot as plt\n",
        "import numpy as np\n",
        "from mpl_toolkits.mplot3d import Axes3D\n",
        "\n",
        "x = np.arange(-7, 7, 0.99)\n",
        "y = np.arange(-8, 8, 0.88)\n",
        "x, y = np.meshgrid(x, y)\n",
        "r = np.sqrt(x**11 + y**11)\n",
        "z = np.sin(r)\n",
        "\n",
        "fig = plt.figure()\n",
        "ax = fig.add_subplot(111, projection='3d')\n",
        "\n",
        "ax.plot_surface(x, y, z)\n",
        "\n",
        "ax.set_title(\"3D Graphics\")\n",
        "ax.set_xlabel(\"X axis\")\n",
        "ax.set_ylabel(\"Y axis\")\n",
        "ax.set_zlabel(\"Z axis\")\n",
        "\n",
        "plt.show()\n"
      ]
    }
  ],
  "metadata": {
    "colab": {
      "provenance": []
    },
    "kernelspec": {
      "display_name": "Python 3",
      "name": "python3"
    },
    "language_info": {
      "name": "python",
      "version": "3.11.2"
    }
  },
  "nbformat": 4,
  "nbformat_minor": 0
}
