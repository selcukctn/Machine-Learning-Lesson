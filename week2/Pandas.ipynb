{
 "cells": [
  {
   "cell_type": "code",
   "execution_count": null,
   "id": "0803338b",
   "metadata": {},
   "outputs": [],
   "source": [
    "t = (1,3,5,9,10)\n",
    "\n",
    "t[1:2]"
   ]
  },
  {
   "cell_type": "code",
   "execution_count": null,
   "id": "2cde41d1",
   "metadata": {},
   "outputs": [],
   "source": [
    "import pandas as pd\n",
    "\n",
    "dictionary = {\"name\":[\"yakup\",\"murat\",\"ercem\",\"yunus\",\"emre\",\"harun\"],\n",
    "             \"age\":[12,34,56,78,None,12],\n",
    "             \"note\":[123,456,78,87654,None,89]}\n",
    "\n",
    "dataframe1 = pd.DataFrame(dictionary) \n",
    "print(dataframe1)\n",
    "\n"
   ]
  },
  {
   "cell_type": "code",
   "execution_count": null,
   "id": "425b965e",
   "metadata": {},
   "outputs": [],
   "source": [
    "import pandas as pd\n",
    "\n",
    "df = pd.read_csv(\"C:/Users/harun/okul/machine/data.csv\")\n",
    "print(df)"
   ]
  },
  {
   "cell_type": "code",
   "execution_count": null,
   "id": "a1c4cb0d",
   "metadata": {},
   "outputs": [],
   "source": [
    "head = dataframe1.head() \n",
    "print(head)"
   ]
  },
  {
   "cell_type": "code",
   "execution_count": null,
   "id": "0c6f9974",
   "metadata": {},
   "outputs": [],
   "source": [
    "tail = dataframe1.tail()\n",
    "print(tail)"
   ]
  },
  {
   "cell_type": "code",
   "execution_count": null,
   "id": "dac71f35",
   "metadata": {},
   "outputs": [],
   "source": [
    "print(dataframe1.columns)"
   ]
  },
  {
   "cell_type": "code",
   "execution_count": null,
   "id": "a2131a1b",
   "metadata": {},
   "outputs": [],
   "source": [
    "print(dataframe1.info()) "
   ]
  },
  {
   "cell_type": "code",
   "execution_count": null,
   "id": "9c33e6d8",
   "metadata": {},
   "outputs": [],
   "source": [
    "print(dataframe1.describe()) "
   ]
  },
  {
   "cell_type": "code",
   "execution_count": null,
   "id": "300be929",
   "metadata": {},
   "outputs": [],
   "source": [
    "print(dataframe1[\"name\"]) \n",
    "print(dataframe1.loc[:, \"age\"])                \n",
    "dataframe1[\"yeni_future\"] = [1,2,3,4,5,6]\n",
    "print(dataframe1.loc[:3,\"age\"]) \n",
    "print(dataframe1.loc[:3, \"name\":\"note\"])                 \n",
    "print(dataframe1.loc[::-1])                          \n"
   ]
  },
  {
   "cell_type": "code",
   "execution_count": null,
   "id": "1167162b",
   "metadata": {},
   "outputs": [],
   "source": [
    "print(dataframe1.yeni_future) "
   ]
  },
  {
   "cell_type": "code",
   "execution_count": null,
   "id": "73b46122",
   "metadata": {},
   "outputs": [],
   "source": [
    "print(dataframe1.loc[:, \"age\"]) "
   ]
  },
  {
   "cell_type": "code",
   "execution_count": null,
   "id": "21068373",
   "metadata": {},
   "outputs": [],
   "source": [
    "print(dataframe1.loc[:3,\"age\"]) "
   ]
  },
  {
   "cell_type": "code",
   "execution_count": null,
   "id": "cc8f079a",
   "metadata": {},
   "outputs": [],
   "source": [
    "print(dataframe1.loc[:3, \"name\":\"note\"]) "
   ]
  },
  {
   "cell_type": "code",
   "execution_count": null,
   "id": "dcf705fc",
   "metadata": {},
   "outputs": [],
   "source": [
    "print(dataframe1.loc[:3, [\"name\",\"note\"]]) "
   ]
  },
  {
   "cell_type": "code",
   "execution_count": null,
   "id": "c6db0fd7",
   "metadata": {},
   "outputs": [],
   "source": [
    "print(dataframe1.loc[::-1]) "
   ]
  },
  {
   "cell_type": "code",
   "execution_count": null,
   "id": "9e550a4e",
   "metadata": {},
   "outputs": [],
   "source": [
    "print(dataframe1.loc[:,:\"age\"]) "
   ]
  },
  {
   "cell_type": "code",
   "execution_count": null,
   "id": "7e3b5e44",
   "metadata": {},
   "outputs": [],
   "source": [
    "print(dataframe1.iloc[:,[2]]) "
   ]
  },
  {
   "cell_type": "code",
   "execution_count": null,
   "id": "cf2c862a",
   "metadata": {
    "scrolled": true
   },
   "outputs": [],
   "source": [
    "filtre1 = dataframe1.age>10                    \n",
    "dataframe1[\"bool\"]= filtre1\n",
    "print(dataframe1.loc[:,[\"age\",\"bool\"]])"
   ]
  },
  {
   "cell_type": "code",
   "execution_count": null,
   "id": "e32607d8",
   "metadata": {},
   "outputs": [],
   "source": [
    "type(filtre1)"
   ]
  },
  {
   "cell_type": "code",
   "execution_count": null,
   "id": "656f8e8e",
   "metadata": {},
   "outputs": [],
   "source": [
    "filtrelenmis_data= dataframe1[filtre1] \n",
    "print(filtrelenmis_data)\n"
   ]
  },
  {
   "cell_type": "code",
   "execution_count": null,
   "id": "a5f9e0d3",
   "metadata": {},
   "outputs": [],
   "source": [
    "filtre2 = dataframe1.note>100\n",
    "filtrelenmis_data2 = dataframe1[filtre2&filtre1]\n",
    "print(filtrelenmis_data2)\n"
   ]
  },
  {
   "cell_type": "code",
   "execution_count": null,
   "id": "4da59fde",
   "metadata": {},
   "outputs": [],
   "source": [
    "dataframe1[dataframe1.age>20] "
   ]
  },
  {
   "cell_type": "code",
   "execution_count": null,
   "id": "35c27620",
   "metadata": {},
   "outputs": [],
   "source": [
    "dataframe1[\"yeni2_future\"]=[1,1,1,1,1]\n",
    "dataframe1.columns = [each.split('_')[0]+\" \"+each.split('_')[1] if len(each.split('_'))>1 else each for each in dataframe1.columns]\n",
    "dataframe1"
   ]
  }
 ],
 "metadata": {
  "kernelspec": {
   "display_name": "Python 3 (ipykernel)",
   "language": "python",
   "name": "python3"
  },
  "language_info": {
   "codemirror_mode": {
    "name": "ipython",
    "version": 3
   },
   "file_extension": ".py",
   "mimetype": "text/x-python",
   "name": "python",
   "nbconvert_exporter": "python",
   "pygments_lexer": "ipython3",
   "version": "3.9.12"
  }
 },
 "nbformat": 4,
 "nbformat_minor": 5
}
