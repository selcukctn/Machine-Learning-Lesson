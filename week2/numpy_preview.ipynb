{
 "cells": [
  {
   "cell_type": "code",
   "execution_count": 1,
   "id": "7ef60fd6",
   "metadata": {},
   "outputs": [],
   "source": [
    "import numpy as np"
   ]
  },
  {
   "cell_type": "code",
   "execution_count": null,
   "id": "da7e7a3a",
   "metadata": {},
   "outputs": [],
   "source": [
    "array = np.array([1,2,3,7,8,9,0]) \n",
    "print(array)"
   ]
  },
  {
   "cell_type": "code",
   "execution_count": null,
   "id": "429ea82a",
   "metadata": {},
   "outputs": [],
   "source": [
    "array2= np.array([30,29,28,29,21,98,19,23,1,3,4,5,6,8])\n",
    "print(array2.shape) "
   ]
  },
  {
   "cell_type": "code",
   "execution_count": null,
   "id": "fb7385eb",
   "metadata": {},
   "outputs": [],
   "source": [
    "a = array2.reshape(1,3) \n",
    "print(a)"
   ]
  },
  {
   "cell_type": "code",
   "execution_count": null,
   "id": "6fb38831",
   "metadata": {},
   "outputs": [],
   "source": [
    "print(\"shape: \",a.shape)\n",
    "\n",
    "print(\"dimension: \",a.ndim) \n",
    "\n",
    "print(\"data type: \",a.dtype.name) \n",
    "\n",
    "print(\"size: \",a.size) \n",
    "                       \n",
    "print(\"type\",type(a)) "
   ]
  },
  {
   "cell_type": "code",
   "execution_count": 6,
   "id": "74686d8b",
   "metadata": {},
   "outputs": [],
   "source": [
    "array3= np.array([[1,2,3,4],[5,6,7,8],[9,10,11,12],[41,32,23,45,16]])"
   ]
  },
  {
   "cell_type": "code",
   "execution_count": null,
   "id": "61d93f0c",
   "metadata": {},
   "outputs": [],
   "source": [
    "print(array3)"
   ]
  },
  {
   "cell_type": "code",
   "execution_count": null,
   "id": "f9cdcf44",
   "metadata": {},
   "outputs": [],
   "source": [
    "print(array3.shape)"
   ]
  },
  {
   "cell_type": "code",
   "execution_count": 9,
   "id": "eba3ca15",
   "metadata": {},
   "outputs": [],
   "source": [
    "zeros= np.zeros((3,4))"
   ]
  },
  {
   "cell_type": "code",
   "execution_count": null,
   "id": "4fadbd03",
   "metadata": {},
   "outputs": [],
   "source": [
    "zeros[0,0]=5\n",
    "print(zeros)"
   ]
  },
  {
   "cell_type": "code",
   "execution_count": null,
   "id": "4fce2668",
   "metadata": {},
   "outputs": [],
   "source": [
    "np.ones((3,4))"
   ]
  },
  {
   "cell_type": "code",
   "execution_count": null,
   "id": "8d657390",
   "metadata": {},
   "outputs": [],
   "source": [
    "np.empty((4,5))"
   ]
  },
  {
   "cell_type": "code",
   "execution_count": null,
   "id": "4cb8474a",
   "metadata": {},
   "outputs": [],
   "source": [
    "np.arange(10,50,5)"
   ]
  },
  {
   "cell_type": "code",
   "execution_count": null,
   "id": "7b29c1c4",
   "metadata": {},
   "outputs": [],
   "source": [
    "a= np.linspace(0,10,20)\n",
    "print(a)"
   ]
  },
  {
   "cell_type": "code",
   "execution_count": null,
   "id": "daa5de41",
   "metadata": {},
   "outputs": [],
   "source": [
    "a= np.array([1,2,3])\n",
    "b= np.array([4,5,6])\n",
    "\n",
    "print(a+b)\n",
    "print(a-b)\n",
    "print(a**2)"
   ]
  },
  {
   "cell_type": "code",
   "execution_count": 15,
   "id": "ac5cb7ae",
   "metadata": {},
   "outputs": [],
   "source": [
    "a= np.array([1,2,3,4,5,6,7])"
   ]
  },
  {
   "cell_type": "code",
   "execution_count": null,
   "id": "81298b9a",
   "metadata": {},
   "outputs": [],
   "source": [
    "liste = [1,2,3,4]\n",
    "\n",
    "array = np.array([5,6,7,8])\n",
    "\n",
    "print(liste)\n",
    "print(array)"
   ]
  },
  {
   "cell_type": "code",
   "execution_count": null,
   "id": "9f3760ac",
   "metadata": {},
   "outputs": [],
   "source": [
    "array = np.array(liste)\n",
    "print(array)"
   ]
  },
  {
   "cell_type": "code",
   "execution_count": null,
   "id": "339ffdd3",
   "metadata": {},
   "outputs": [],
   "source": [
    "array = np.array([[0,5,7],[3,2,1],[1,2,3]])\n",
    "print(array)"
   ]
  },
  {
   "cell_type": "code",
   "execution_count": null,
   "id": "b7065191",
   "metadata": {},
   "outputs": [],
   "source": [
    "a = array.ravel()\n",
    "print(a)"
   ]
  },
  {
   "cell_type": "code",
   "execution_count": null,
   "id": "324055eb",
   "metadata": {},
   "outputs": [],
   "source": [
    "array2 = a.reshape(1,1)\n",
    "print(array2)"
   ]
  },
  {
   "cell_type": "code",
   "execution_count": null,
   "id": "83ed3932",
   "metadata": {},
   "outputs": [],
   "source": [
    "array_transpose = array2.T\n",
    "print(array_transpose)"
   ]
  },
  {
   "cell_type": "code",
   "execution_count": null,
   "id": "e5592d5b",
   "metadata": {},
   "outputs": [],
   "source": [
    "array3 = np.array([[1,2],[3,4],[5,6],[8,9],[7,8]])\n",
    "print(array3)"
   ]
  },
  {
   "cell_type": "code",
   "execution_count": null,
   "id": "2be4d202",
   "metadata": {},
   "outputs": [],
   "source": [
    "array3.resize((3,5)) \n",
    "print(array3)"
   ]
  }
 ],
 "metadata": {
  "kernelspec": {
   "display_name": "Python 3 (ipykernel)",
   "language": "python",
   "name": "python3"
  },
  "language_info": {
   "codemirror_mode": {
    "name": "ipython",
    "version": 3
   },
   "file_extension": ".py",
   "mimetype": "text/x-python",
   "name": "python",
   "nbconvert_exporter": "python",
   "pygments_lexer": "ipython3",
   "version": "3.9.12"
  }
 },
 "nbformat": 4,
 "nbformat_minor": 5
}
